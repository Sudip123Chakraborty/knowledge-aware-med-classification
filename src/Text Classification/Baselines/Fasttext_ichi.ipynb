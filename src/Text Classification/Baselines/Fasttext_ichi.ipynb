{
  "nbformat": 4,
  "nbformat_minor": 0,
  "metadata": {
    "colab": {
      "name": "Copy of Fasttext_ichi.ipynb",
      "provenance": [],
      "collapsed_sections": [
        "-675ZFMYLQAt",
        "PNVOE80JUHe-",
        "KJB00TCldLb3",
        "_7KhDk8iaFT9"
      ],
      "toc_visible": true
    },
    "kernelspec": {
      "display_name": "Python 3",
      "name": "python3"
    },
    "language_info": {
      "name": "python"
    }
  },
  "cells": [
    {
      "cell_type": "markdown",
      "metadata": {
        "id": "kdKag65S-tUK"
      },
      "source": [
        "This repo is for fasttext model with ichi dataset"
      ]
    },
    {
      "cell_type": "code",
      "metadata": {
        "colab": {
          "base_uri": "https://localhost:8080/"
        },
        "id": "dFaI-FLbNyhs",
        "outputId": "c0055992-e589-455a-b14f-c5b183dde6ab"
      },
      "source": [
        "import nltk\n",
        "nltk.download('stopwords')\n",
        "!pip install imblearn"
      ],
      "execution_count": null,
      "outputs": [
        {
          "output_type": "stream",
          "text": [
            "[nltk_data] Downloading package stopwords to /root/nltk_data...\n",
            "[nltk_data]   Package stopwords is already up-to-date!\n",
            "Requirement already satisfied: imblearn in /usr/local/lib/python3.7/dist-packages (0.0)\n",
            "Requirement already satisfied: imbalanced-learn in /usr/local/lib/python3.7/dist-packages (from imblearn) (0.4.3)\n",
            "Requirement already satisfied: numpy>=1.8.2 in /usr/local/lib/python3.7/dist-packages (from imbalanced-learn->imblearn) (1.19.5)\n",
            "Requirement already satisfied: scikit-learn>=0.20 in /usr/local/lib/python3.7/dist-packages (from imbalanced-learn->imblearn) (0.22.2.post1)\n",
            "Requirement already satisfied: scipy>=0.13.3 in /usr/local/lib/python3.7/dist-packages (from imbalanced-learn->imblearn) (1.4.1)\n",
            "Requirement already satisfied: joblib>=0.11 in /usr/local/lib/python3.7/dist-packages (from scikit-learn>=0.20->imbalanced-learn->imblearn) (1.0.1)\n"
          ],
          "name": "stdout"
        }
      ]
    },
    {
      "cell_type": "code",
      "metadata": {
        "id": "EXkvTO-VN0pw"
      },
      "source": [
        "%matplotlib inline\n",
        "\n",
        "import re\n",
        "import matplotlib\n",
        "import numpy as np\n",
        "import matplotlib.pyplot as plt\n",
        "import pandas as pd\n",
        "from sklearn.model_selection import train_test_split\n",
        "from sklearn.feature_extraction.text import TfidfVectorizer\n",
        "from sklearn.naive_bayes import MultinomialNB\n",
        "from sklearn.metrics import accuracy_score\n",
        "from sklearn.metrics import confusion_matrix,precision_recall_fscore_support\n",
        "from sklearn.multiclass import OneVsRestClassifier\n",
        "from sklearn.metrics import classification_report\n",
        "from nltk.corpus import stopwords\n",
        "stop_words = set(stopwords.words('english'))\n",
        "from sklearn.svm import LinearSVC\n",
        "from sklearn.linear_model import LogisticRegression\n",
        "from imblearn.pipeline import Pipeline\n",
        "import seaborn as sns\n",
        "from imblearn.over_sampling import SMOTE"
      ],
      "execution_count": null,
      "outputs": []
    },
    {
      "cell_type": "markdown",
      "metadata": {
        "id": "CfiM78qc3cbC"
      },
      "source": [
        "#importing data files and preprocessing"
      ]
    },
    {
      "cell_type": "code",
      "metadata": {
        "id": "uZMiLWmZdifr"
      },
      "source": [
        "import pandas as pd\n",
        "df_train = pd.read_csv('./data/train_test_split/ichi/ichi_train.tsv',sep=\"\\t\")\n",
        "df_train.drop(['Title'],axis=1,inplace=True)"
      ],
      "execution_count": null,
      "outputs": []
    },
    {
      "cell_type": "code",
      "metadata": {
        "colab": {
          "base_uri": "https://localhost:8080/",
          "height": 419
        },
        "id": "oMQbP3GfOFXp",
        "outputId": "d060eb2e-f6e3-4a71-ef05-51c6703758a1"
      },
      "source": [
        "df_test = pd.read_csv('./data/train_test_split/ichi/ichi_test.tsv',sep='\\t')\n",
        "df_test.drop(['Title'],axis=1,inplace=True)\n",
        "df_test"
      ],
      "execution_count": null,
      "outputs": [
        {
          "output_type": "execute_result",
          "data": {
            "text/html": [
              "<div>\n",
              "<style scoped>\n",
              "    .dataframe tbody tr th:only-of-type {\n",
              "        vertical-align: middle;\n",
              "    }\n",
              "\n",
              "    .dataframe tbody tr th {\n",
              "        vertical-align: top;\n",
              "    }\n",
              "\n",
              "    .dataframe thead th {\n",
              "        text-align: right;\n",
              "    }\n",
              "</style>\n",
              "<table border=\"1\" class=\"dataframe\">\n",
              "  <thead>\n",
              "    <tr style=\"text-align: right;\">\n",
              "      <th></th>\n",
              "      <th>Category</th>\n",
              "      <th>Question</th>\n",
              "      <th>Concepts</th>\n",
              "    </tr>\n",
              "  </thead>\n",
              "  <tbody>\n",
              "    <tr>\n",
              "      <th>0</th>\n",
              "      <td>DISE</td>\n",
              "      <td>Hi All! I am new here but have been lurking fo...</td>\n",
              "      <td>NaN</td>\n",
              "    </tr>\n",
              "    <tr>\n",
              "      <th>1</th>\n",
              "      <td>SOCL</td>\n",
              "      <td>My girlfriend and i just got through having se...</td>\n",
              "      <td>NaN</td>\n",
              "    </tr>\n",
              "    <tr>\n",
              "      <th>2</th>\n",
              "      <td>GOAL</td>\n",
              "      <td>Dr. i have dirty yellow buning eyes since my t...</td>\n",
              "      <td>condition|eyes|HAND</td>\n",
              "    </tr>\n",
              "    <tr>\n",
              "      <th>3</th>\n",
              "      <td>SOCL</td>\n",
              "      <td>Hi, a few nights ago I went to a gay sexclub a...</td>\n",
              "      <td>NaN</td>\n",
              "    </tr>\n",
              "    <tr>\n",
              "      <th>4</th>\n",
              "      <td>FAML</td>\n",
              "      <td>my 4 year old is a nightmare. me and my husban...</td>\n",
              "      <td>demanding|fits</td>\n",
              "    </tr>\n",
              "    <tr>\n",
              "      <th>...</th>\n",
              "      <td>...</td>\n",
              "      <td>...</td>\n",
              "      <td>...</td>\n",
              "    </tr>\n",
              "    <tr>\n",
              "      <th>2995</th>\n",
              "      <td>TRMT</td>\n",
              "      <td>I am definitley having my lap band removed in ...</td>\n",
              "      <td>acid reflux|said|weight</td>\n",
              "    </tr>\n",
              "    <tr>\n",
              "      <th>2996</th>\n",
              "      <td>PREG</td>\n",
              "      <td>I am in the TWW again. I was on Femara this mo...</td>\n",
              "      <td>follicles</td>\n",
              "    </tr>\n",
              "    <tr>\n",
              "      <th>2997</th>\n",
              "      <td>DISE</td>\n",
              "      <td>I've been advised to try visual routine charts...</td>\n",
              "      <td>NaN</td>\n",
              "    </tr>\n",
              "    <tr>\n",
              "      <th>2998</th>\n",
              "      <td>PREG</td>\n",
              "      <td>Just looking for some cycle buddies!    I star...</td>\n",
              "      <td>NaN</td>\n",
              "    </tr>\n",
              "    <tr>\n",
              "      <th>2999</th>\n",
              "      <td>GOAL</td>\n",
              "      <td>Early in the day, my vision is fine. But towar...</td>\n",
              "      <td>eye</td>\n",
              "    </tr>\n",
              "  </tbody>\n",
              "</table>\n",
              "<p>3000 rows × 3 columns</p>\n",
              "</div>"
            ],
            "text/plain": [
              "     Category  ...                 Concepts\n",
              "0        DISE  ...                      NaN\n",
              "1        SOCL  ...                      NaN\n",
              "2        GOAL  ...      condition|eyes|HAND\n",
              "3        SOCL  ...                      NaN\n",
              "4        FAML  ...           demanding|fits\n",
              "...       ...  ...                      ...\n",
              "2995     TRMT  ...  acid reflux|said|weight\n",
              "2996     PREG  ...                follicles\n",
              "2997     DISE  ...                      NaN\n",
              "2998     PREG  ...                      NaN\n",
              "2999     GOAL  ...                      eye\n",
              "\n",
              "[3000 rows x 3 columns]"
            ]
          },
          "metadata": {
            "tags": []
          },
          "execution_count": 368
        }
      ]
    },
    {
      "cell_type": "code",
      "metadata": {
        "id": "wB3oKHguOH_h"
      },
      "source": [
        "def clean_text(text):\n",
        "    text = text.lower()\n",
        "    text = re.sub(r\"what's\", \"what is \", text)\n",
        "    text = re.sub(r\"\\'s\", \" \", text)\n",
        "    text = re.sub(r\"\\'ve\", \" have \", text)\n",
        "    text = re.sub(r\"can't\", \"can not \", text)\n",
        "    text = re.sub(r\"n't\", \" not \", text)\n",
        "    text = re.sub(r\"i'm\", \"i am \", text)\n",
        "    text = re.sub(r\"\\'re\", \" are \", text)\n",
        "    text = re.sub(r\"\\'d\", \" would \", text)\n",
        "    text = re.sub(r\"\\'ll\", \" will \", text)\n",
        "    text = re.sub(r\"\\'scuse\", \" excuse \", text)\n",
        "    text = re.sub('\\W', ' ', text)\n",
        "    text = re.sub('\\s+', ' ', text)\n",
        "    text = text.strip(' ')\n",
        "    return text"
      ],
      "execution_count": null,
      "outputs": []
    },
    {
      "cell_type": "code",
      "metadata": {
        "id": "mtFEBSvJOK5A"
      },
      "source": [
        "categories = ['DEMO','DISE','FAML','GOAL','PREG','SOCL','TRMT']"
      ],
      "execution_count": null,
      "outputs": []
    },
    {
      "cell_type": "code",
      "metadata": {
        "id": "9eBhXeHv4qnP"
      },
      "source": [
        "df_train['Question'] = df_train['Question'].map(lambda com : clean_text(com))\n",
        "df_test['Question'] = df_test['Question'].map(lambda com : clean_text(com))"
      ],
      "execution_count": null,
      "outputs": []
    },
    {
      "cell_type": "markdown",
      "metadata": {
        "id": "f5ZUT4ka973U"
      },
      "source": [
        "# import fasttext repo"
      ]
    },
    {
      "cell_type": "code",
      "metadata": {
        "id": "8sMXZzwu9l4Q"
      },
      "source": [
        "!git clone https://github.com/facebookresearch/fastText.git # clone fasttext repo\n",
        "cd fastText # change directory to fasttext to use the fasttext code\n"
      ],
      "execution_count": null,
      "outputs": []
    },
    {
      "cell_type": "code",
      "metadata": {
        "colab": {
          "base_uri": "https://localhost:8080/"
        },
        "id": "UqxjJTxTOYai",
        "outputId": "ae211453-3618-41e2-9326-92cdbde20559"
      },
      "source": [
        "!make # rbuild the makefile"
      ],
      "execution_count": null,
      "outputs": [
        {
          "output_type": "stream",
          "text": [
            "make: Nothing to be done for 'opt'.\n"
          ],
          "name": "stdout"
        }
      ]
    },
    {
      "cell_type": "markdown",
      "metadata": {
        "id": "Fm5IGcti-Dp6"
      },
      "source": [
        "## preprocessing the train and test data to use fasttext "
      ]
    },
    {
      "cell_type": "code",
      "metadata": {
        "id": "hwfJsmUAOaco"
      },
      "source": [
        "df_train.iloc[:, 0] = df_train.iloc[:, 0].apply(lambda x: '__label__' + x)\n",
        "df_test.iloc[:, 0] = df_test.iloc[:, 0].apply(lambda x: '__label__' + x)"
      ],
      "execution_count": null,
      "outputs": []
    },
    {
      "cell_type": "code",
      "metadata": {
        "colab": {
          "base_uri": "https://localhost:8080/",
          "height": 419
        },
        "id": "6KuoumICOFhy",
        "outputId": "b03878be-c572-496c-d06a-f526cda87a35"
      },
      "source": [
        "df_test"
      ],
      "execution_count": null,
      "outputs": [
        {
          "output_type": "execute_result",
          "data": {
            "text/html": [
              "<div>\n",
              "<style scoped>\n",
              "    .dataframe tbody tr th:only-of-type {\n",
              "        vertical-align: middle;\n",
              "    }\n",
              "\n",
              "    .dataframe tbody tr th {\n",
              "        vertical-align: top;\n",
              "    }\n",
              "\n",
              "    .dataframe thead th {\n",
              "        text-align: right;\n",
              "    }\n",
              "</style>\n",
              "<table border=\"1\" class=\"dataframe\">\n",
              "  <thead>\n",
              "    <tr style=\"text-align: right;\">\n",
              "      <th></th>\n",
              "      <th>Category</th>\n",
              "      <th>Question</th>\n",
              "      <th>Concepts</th>\n",
              "    </tr>\n",
              "  </thead>\n",
              "  <tbody>\n",
              "    <tr>\n",
              "      <th>0</th>\n",
              "      <td>__label__DISE</td>\n",
              "      <td>hi all i am new here but have been lurking for...</td>\n",
              "      <td>NaN</td>\n",
              "    </tr>\n",
              "    <tr>\n",
              "      <th>1</th>\n",
              "      <td>__label__SOCL</td>\n",
              "      <td>my girlfriend and i just got through having se...</td>\n",
              "      <td>NaN</td>\n",
              "    </tr>\n",
              "    <tr>\n",
              "      <th>2</th>\n",
              "      <td>__label__GOAL</td>\n",
              "      <td>dr i have dirty yellow buning eyes since my te...</td>\n",
              "      <td>condition|eyes|HAND</td>\n",
              "    </tr>\n",
              "    <tr>\n",
              "      <th>3</th>\n",
              "      <td>__label__SOCL</td>\n",
              "      <td>hi a few nights ago i went to a gay sexclub an...</td>\n",
              "      <td>NaN</td>\n",
              "    </tr>\n",
              "    <tr>\n",
              "      <th>4</th>\n",
              "      <td>__label__FAML</td>\n",
              "      <td>my 4 year old is a nightmare me and my husband...</td>\n",
              "      <td>demanding|fits</td>\n",
              "    </tr>\n",
              "    <tr>\n",
              "      <th>...</th>\n",
              "      <td>...</td>\n",
              "      <td>...</td>\n",
              "      <td>...</td>\n",
              "    </tr>\n",
              "    <tr>\n",
              "      <th>2995</th>\n",
              "      <td>__label__TRMT</td>\n",
              "      <td>i am definitley having my lap band removed in ...</td>\n",
              "      <td>acid reflux|said|weight</td>\n",
              "    </tr>\n",
              "    <tr>\n",
              "      <th>2996</th>\n",
              "      <td>__label__PREG</td>\n",
              "      <td>i am in the tww again i was on femara this mon...</td>\n",
              "      <td>follicles</td>\n",
              "    </tr>\n",
              "    <tr>\n",
              "      <th>2997</th>\n",
              "      <td>__label__DISE</td>\n",
              "      <td>i have been advised to try visual routine char...</td>\n",
              "      <td>NaN</td>\n",
              "    </tr>\n",
              "    <tr>\n",
              "      <th>2998</th>\n",
              "      <td>__label__PREG</td>\n",
              "      <td>just looking for some cycle buddies i started ...</td>\n",
              "      <td>NaN</td>\n",
              "    </tr>\n",
              "    <tr>\n",
              "      <th>2999</th>\n",
              "      <td>__label__GOAL</td>\n",
              "      <td>early in the day my vision is fine but toward ...</td>\n",
              "      <td>eye</td>\n",
              "    </tr>\n",
              "  </tbody>\n",
              "</table>\n",
              "<p>3000 rows × 3 columns</p>\n",
              "</div>"
            ],
            "text/plain": [
              "           Category  ...                 Concepts\n",
              "0     __label__DISE  ...                      NaN\n",
              "1     __label__SOCL  ...                      NaN\n",
              "2     __label__GOAL  ...      condition|eyes|HAND\n",
              "3     __label__SOCL  ...                      NaN\n",
              "4     __label__FAML  ...           demanding|fits\n",
              "...             ...  ...                      ...\n",
              "2995  __label__TRMT  ...  acid reflux|said|weight\n",
              "2996  __label__PREG  ...                follicles\n",
              "2997  __label__DISE  ...                      NaN\n",
              "2998  __label__PREG  ...                      NaN\n",
              "2999  __label__GOAL  ...                      eye\n",
              "\n",
              "[3000 rows x 3 columns]"
            ]
          },
          "metadata": {
            "tags": []
          },
          "execution_count": 379
        }
      ]
    },
    {
      "cell_type": "code",
      "metadata": {
        "id": "utJKUfZkOd0p"
      },
      "source": [
        "import csv\n",
        "df_train[['Category', 'Question']].to_csv(r'train.txt', \n",
        "                                          index = False, \n",
        "                                          sep = ' ',\n",
        "                                          header = None, \n",
        "                                          quoting = csv.QUOTE_NONE, \n",
        "                                          quotechar = \"\", \n",
        "                                          escapechar = \" \")\n",
        "df_test[['Category', 'Question']].to_csv(r'test.txt', \n",
        "                                     index = False, \n",
        "                                     sep = ' ',\n",
        "                                     header = None, \n",
        "                                     quoting = csv.QUOTE_NONE, \n",
        "                                     quotechar = \"\", \n",
        "                                     escapechar = \" \")"
      ],
      "execution_count": null,
      "outputs": []
    },
    {
      "cell_type": "markdown",
      "metadata": {
        "id": "WTWUK5R7UQ98"
      },
      "source": [
        "# training with the data"
      ]
    },
    {
      "cell_type": "code",
      "metadata": {
        "colab": {
          "base_uri": "https://localhost:8080/"
        },
        "id": "bxG3ynGROgrp",
        "outputId": "a76d980a-99e9-49a0-9a42-973a28068a33"
      },
      "source": [
        "! ./fasttext supervised -input train.txt -output model -lr 1e-1 -epoch 20"
      ],
      "execution_count": null,
      "outputs": [
        {
          "output_type": "stream",
          "text": [
            "\rRead 1M words\rRead 1M words\n",
            "Number of words:  37389\n",
            "Number of labels: 7\n",
            "Progress: 100.0% words/sec/thread:  503364 lr:  0.000000 avg.loss:  0.474432 ETA:   0h 0m 0s\n"
          ],
          "name": "stdout"
        }
      ]
    },
    {
      "cell_type": "markdown",
      "metadata": {
        "id": "z4bIdlscUK9x"
      },
      "source": [
        "# prediction result dumped on txt file"
      ]
    },
    {
      "cell_type": "code",
      "metadata": {
        "id": "TM3NrLo5Oj_q"
      },
      "source": [
        "! ./fasttext predict model.bin test.txt 1  >fastTextResult.txt # storing the prediction on fastTextResult.tx"
      ],
      "execution_count": null,
      "outputs": []
    },
    {
      "cell_type": "code",
      "metadata": {
        "id": "nBqvyf51w_FE"
      },
      "source": [
        "testDataCat=df_test['Category'].tolist()\n",
        "a_file = open(\"fastTextResult.txt\")\n",
        "resultClass=[]\n",
        "lines = a_file. readlines()\n",
        "for line in lines:\n",
        "  # print(line[9:13])\n",
        "  resultClass.append(line[:13])# taking upto 13 charecter to avoid \\n ie:   '__label__GOAL\\n',"
      ],
      "execution_count": null,
      "outputs": []
    },
    {
      "cell_type": "markdown",
      "metadata": {
        "id": "0-Xj02jMUXgf"
      },
      "source": [
        "# comparing the result"
      ]
    },
    {
      "cell_type": "code",
      "metadata": {
        "id": "QBnfA5SvPptc"
      },
      "source": [
        "correctPredict=0\n",
        "for i in range(len(resultClass)):\n",
        "  if resultClass[i]==testDataCat[i]:\n",
        "    correctPredict=correctPredict+1\n"
      ],
      "execution_count": null,
      "outputs": []
    },
    {
      "cell_type": "code",
      "metadata": {
        "colab": {
          "base_uri": "https://localhost:8080/"
        },
        "id": "rVVfr8zvP1hV",
        "outputId": "c1cc191f-345b-452d-9b9a-063092566f63"
      },
      "source": [
        "correctPredict"
      ],
      "execution_count": null,
      "outputs": [
        {
          "output_type": "execute_result",
          "data": {
            "text/plain": [
              "1821"
            ]
          },
          "metadata": {
            "tags": []
          },
          "execution_count": 414
        }
      ]
    },
    {
      "cell_type": "code",
      "metadata": {
        "colab": {
          "base_uri": "https://localhost:8080/"
        },
        "id": "uYAaaZaOQBT0",
        "outputId": "6416802e-9558-489a-fabf-b2733b982390"
      },
      "source": [
        "correctPredict/len(resultClass)\n"
      ],
      "execution_count": null,
      "outputs": [
        {
          "output_type": "execute_result",
          "data": {
            "text/plain": [
              "0.607"
            ]
          },
          "metadata": {
            "tags": []
          },
          "execution_count": 415
        }
      ]
    }
  ]
}